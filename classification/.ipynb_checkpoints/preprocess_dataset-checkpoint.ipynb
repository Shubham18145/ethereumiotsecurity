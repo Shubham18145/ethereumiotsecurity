{
 "cells": [
  {
   "cell_type": "code",
   "execution_count": 53,
   "metadata": {},
   "outputs": [],
   "source": [
    "import csv\n",
    "import pandas as pd\n",
    "import numpy as np\n",
    "from sklearn.utils import shuffle\n",
    "# filename1 = \"X_test.txt\"\n",
    "# filename2 = \"X_train.txt\"\n",
    "\n",
    "# df_data_test = pd.read_csv(filename1,header=None, error_bad_lines=False)\n",
    "# df_data_train = pd.read_csv(filename1,header=None, error_bad_lines=False)\n",
    "# df_data.to_csv(\"X_test_2.csv\",index=False)\n",
    "# print (df_data.head(1).shape)\n",
    "\n",
    "filename3 = \"X_train_cleaned.csv\"\n",
    "filename4 = \"y_train.csv\"\n",
    "\n",
    "filename5 = \"X_test_cleaned.csv\"\n",
    "filename6 = \"y_test.csv\"\n",
    "\n",
    "df_train_data = pd.read_csv(filename3)\n",
    "df_train_labels = pd.read_csv(filename4)\n",
    "df_test_data = pd.read_csv(filename5)\n",
    "df_test_labels = pd.read_csv(filename6)\n",
    "\n",
    "df_train_total = pd.concat([df_train_data,df_train_labels],axis=1)\n",
    "df_test_total = pd.concat([df_test_data,df_test_labels],axis=1)\n",
    "\n",
    "\n"
   ]
  },
  {
   "cell_type": "code",
   "execution_count": 54,
   "metadata": {},
   "outputs": [],
   "source": [
    "np_train = np.array(df_train_total)\n",
    "np_test = np.array(df_test_total)"
   ]
  },
  {
   "cell_type": "code",
   "execution_count": 55,
   "metadata": {},
   "outputs": [],
   "source": [
    "np_train = shuffle(np_train)\n",
    "np_test = shuffle(np_test)"
   ]
  },
  {
   "cell_type": "code",
   "execution_count": 56,
   "metadata": {},
   "outputs": [],
   "source": [
    "np_full = np.concatenate((np_train,np_test))"
   ]
  },
  {
   "cell_type": "code",
   "execution_count": 57,
   "metadata": {},
   "outputs": [
    {
     "data": {
      "text/plain": [
       "(10299, 562)"
      ]
     },
     "execution_count": 57,
     "metadata": {},
     "output_type": "execute_result"
    }
   ],
   "source": [
    "np_full.shape"
   ]
  },
  {
   "cell_type": "code",
   "execution_count": 58,
   "metadata": {},
   "outputs": [],
   "source": [
    "new_data_train_dict = [5,5,5,5,5,5,5]\n",
    "new_data_train = []\n",
    "for i in np_full:\n",
    "    if(new_data_train_dict[int(i[-1])] > 0):\n",
    "        new_data_train.append(i)\n",
    "        new_data_train_dict[int(i[-1])] -= 1\n",
    "    continue"
   ]
  },
  {
   "cell_type": "code",
   "execution_count": 59,
   "metadata": {},
   "outputs": [],
   "source": [
    "new_data_train = np.array(new_data_train)"
   ]
  },
  {
   "cell_type": "code",
   "execution_count": 60,
   "metadata": {},
   "outputs": [
    {
     "data": {
      "text/plain": [
       "(30, 562)"
      ]
     },
     "execution_count": 60,
     "metadata": {},
     "output_type": "execute_result"
    }
   ],
   "source": [
    "new_data_train.shape"
   ]
  },
  {
   "cell_type": "code",
   "execution_count": 61,
   "metadata": {},
   "outputs": [],
   "source": [
    "list_data = new_data_train.tolist()"
   ]
  },
  {
   "cell_type": "code",
   "execution_count": 62,
   "metadata": {},
   "outputs": [],
   "source": [
    "# list_data[0]"
   ]
  },
  {
   "cell_type": "code",
   "execution_count": 63,
   "metadata": {},
   "outputs": [],
   "source": [
    "# list_data[0][-1]"
   ]
  },
  {
   "cell_type": "code",
   "execution_count": 64,
   "metadata": {},
   "outputs": [],
   "source": [
    "new_format_data = []\n",
    "for i in list_data:\n",
    "    data = map(str,i[:20])\n",
    "    data = \",\".join(data)\n",
    "    data = '\"' + data + ','\n",
    "    data += str(i[-1]) +'\"\\n'\n",
    "    new_format_data.append(data)"
   ]
  },
  {
   "cell_type": "code",
   "execution_count": 65,
   "metadata": {},
   "outputs": [],
   "source": [
    "# new_format_data[3]"
   ]
  },
  {
   "cell_type": "code",
   "execution_count": 66,
   "metadata": {},
   "outputs": [],
   "source": [
    "# new_format_data[0]"
   ]
  },
  {
   "cell_type": "code",
   "execution_count": 67,
   "metadata": {},
   "outputs": [],
   "source": [
    "f = open(\"new_processed_to_blockchain.txt\",\"w\")"
   ]
  },
  {
   "cell_type": "code",
   "execution_count": 68,
   "metadata": {},
   "outputs": [],
   "source": [
    "for i in new_format_data:\n",
    "    f.write(i)"
   ]
  },
  {
   "cell_type": "code",
   "execution_count": 69,
   "metadata": {},
   "outputs": [],
   "source": [
    "f.close()"
   ]
  }
 ],
 "metadata": {
  "kernelspec": {
   "display_name": "Python 3",
   "language": "python",
   "name": "python3"
  },
  "language_info": {
   "codemirror_mode": {
    "name": "ipython",
    "version": 3
   },
   "file_extension": ".py",
   "mimetype": "text/x-python",
   "name": "python",
   "nbconvert_exporter": "python",
   "pygments_lexer": "ipython3",
   "version": "3.7.3"
  }
 },
 "nbformat": 4,
 "nbformat_minor": 2
}
