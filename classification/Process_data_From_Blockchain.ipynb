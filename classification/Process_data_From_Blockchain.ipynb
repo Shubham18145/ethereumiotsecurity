{
 "cells": [
  {
   "cell_type": "code",
   "execution_count": null,
   "metadata": {},
   "outputs": [],
   "source": [
    "import pandas as pd\n",
    "import numpy as np\n",
    "import matplotlib.pyplot as plt\n",
    "from sklearn.impute import SimpleImputer\n",
    "from sklearn.naive_bayes import GaussianNB, MultinomialNB\n",
    "from sklearn.ensemble import RandomForestClassifier\n",
    "from sklearn import svm\n",
    "from sklearn.preprocessing import StandardScaler\n",
    "from sklearn.metrics import confusion_matrix, classification_report, accuracy_score, f1_score, recall_score, \\\n",
    "    precision_score, roc_curve, auc, matthews_corrcoef\n",
    "from sklearn.model_selection import train_test_split\n",
    "from sklearn.linear_model import LogisticRegression"
   ]
  },
  {
   "cell_type": "code",
   "execution_count": null,
   "metadata": {},
   "outputs": [],
   "source": [
    "file_read = open(\"data_retrieved_from_blockchain.txt\",\"r\")\n",
    "input_data = file_read.readlines()"
   ]
  },
  {
   "cell_type": "code",
   "execution_count": null,
   "metadata": {},
   "outputs": [],
   "source": [
    "for i in range(len(input_data)):\n",
    "    input_data[i] = (input_data[i].split(\":\")[1].split('\"')[1]).split(',')"
   ]
  },
  {
   "cell_type": "code",
   "execution_count": null,
   "metadata": {},
   "outputs": [],
   "source": [
    "input_data = np.array(input_data)"
   ]
  },
  {
   "cell_type": "code",
   "execution_count": null,
   "metadata": {},
   "outputs": [],
   "source": [
    "total_labels = input_data[:,-1].astype(np.float).astype(np.int)\n",
    "total_data  = input_data[:,:-1].astype(np.float)"
   ]
  },
  {
   "cell_type": "code",
   "execution_count": null,
   "metadata": {},
   "outputs": [],
   "source": [
    "for i in range(len(total_labels)):\n",
    "    if(total_labels[i] <= 3):\n",
    "        total_labels[i] = 1\n"
   ]
  },
  {
   "cell_type": "code",
   "execution_count": null,
   "metadata": {},
   "outputs": [],
   "source": [
    "from sklearn.model_selection import train_test_split\n",
    "X_train, X_test, y_train, y_test = train_test_split(total_data, total_labels, test_size=0.33, random_state=40)"
   ]
  },
  {
   "cell_type": "code",
   "execution_count": null,
   "metadata": {},
   "outputs": [],
   "source": [
    "nbclf = GaussianNB()\n",
    "rfclf = RandomForestClassifier(n_estimators=100)\n",
    "svmclf = svm.SVC(kernel='linear')"
   ]
  },
  {
   "cell_type": "code",
   "execution_count": null,
   "metadata": {},
   "outputs": [],
   "source": [
    "def classify_and_report(classifier,X_train, X_test, y_train, y_test):\n",
    "    classifier.fit(X_train,y_train)\n",
    "    y_predicted = classifier.predict(X_test)\n",
    "    print(\"Multiclass classification: \")\n",
    "    print('Accuracy:', accuracy_score(y_test, y_predicted))\n",
    "    print('F1 score:', f1_score(y_test, y_predicted,average='macro'))\n",
    "    print('Recall:', recall_score(y_test, y_predicted,average='macro'))\n",
    "    print('Precision:', precision_score(y_test, y_predicted,average='macro'))\n",
    "    print(\"Matthews Correlation Coefficient: \",matthews_corrcoef(y_test, y_predicted))\n",
    "    print('Classification report:', classification_report(y_test, y_predicted))"
   ]
  },
  {
   "cell_type": "code",
   "execution_count": null,
   "metadata": {},
   "outputs": [],
   "source": [
    "print (\"Naive Bayes\")\n",
    "classify_and_report(nbclf,X_train, X_test, y_train, y_test)"
   ]
  },
  {
   "cell_type": "code",
   "execution_count": null,
   "metadata": {},
   "outputs": [],
   "source": [
    "print (\"Random Forest\")\n",
    "classify_and_report(rfclf,X_train, X_test, y_train, y_test)"
   ]
  },
  {
   "cell_type": "code",
   "execution_count": null,
   "metadata": {},
   "outputs": [],
   "source": [
    "print (\"SVM\")\n",
    "classify_and_report(svmclf,X_train, X_test, y_train, y_test)"
   ]
  },
  {
   "cell_type": "code",
   "execution_count": null,
   "metadata": {},
   "outputs": [],
   "source": []
  }
 ],
 "metadata": {
  "kernelspec": {
   "display_name": "Python 3",
   "language": "python",
   "name": "python3"
  },
  "language_info": {
   "codemirror_mode": {
    "name": "ipython",
    "version": 3
   },
   "file_extension": ".py",
   "mimetype": "text/x-python",
   "name": "python",
   "nbconvert_exporter": "python",
   "pygments_lexer": "ipython3",
   "version": "3.7.3"
  }
 },
 "nbformat": 4,
 "nbformat_minor": 2
}
